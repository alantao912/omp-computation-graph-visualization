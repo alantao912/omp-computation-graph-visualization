{
 "cells": [
  {
   "cell_type": "code",
   "execution_count": 31,
   "metadata": {},
   "outputs": [],
   "source": [
    "import networkx as nx\n",
    "from networkx.readwrite import json_graph\n",
    "\n",
    "import json\n",
    "from datetime import datetime\n",
    "import os\n",
    "import subprocess"
   ]
  },
  {
   "cell_type": "code",
   "execution_count": 32,
   "metadata": {},
   "outputs": [],
   "source": [
    "format_data = \"%y%m%d-%H%M%S\"\n",
    "x = datetime.now()\n",
    "time = x.strftime(format_data)\n",
    "filename = f'output{time}.json'\n",
    "\n",
    "dataDir = \"data\"\n",
    "outputfile = os.path.join(dataDir, filename)\n",
    "inputfile = os.path.join(dataDir, \"oct15.graphml\")\n",
    "\n",
    "def write_to_file(path: str, content:str):\n",
    "    with open(path, 'w') as f:\n",
    "        f.write(content)\n",
    "    return\n",
    "\n",
    "\n",
    "def run_cmd(cmd: str, dir: str):\n",
    "    # Use subprocess.Popen to run the command and capture output\n",
    "    process = subprocess.Popen(\n",
    "        cmd,\n",
    "        cwd=dir,\n",
    "        shell=True,  # Allows running commands with shell features like pipes (use with caution)\n",
    "        stdout=subprocess.PIPE,\n",
    "        stderr=subprocess.PIPE,\n",
    "        text=True  # For working with text output\n",
    "    )\n",
    "\n",
    "    # Wait for the command to complete and capture stdout and stderr\n",
    "    stdout, stderr = process.communicate()\n",
    "\n",
    "    # Check the return code to see if the command was successful\n",
    "    return_code = process.returncode\n",
    "    \n",
    "    return stdout, stderr, return_code"
   ]
  },
  {
   "cell_type": "code",
   "execution_count": 34,
   "metadata": {
    "scrolled": true
   },
   "outputs": [
    {
     "name": "stdout",
     "output_type": "stream",
     "text": [
      "True\n"
     ]
    }
   ],
   "source": [
    "G = nx.read_graphml(inputfile)\n",
    "\n",
    "# Find and remove nodes with attribute \"vertex_id\" equal to 0\n",
    "nodes_to_remove = [node for node, data in G.nodes(data=True) if data.get('vertex_id') == 0]\n",
    "G.remove_nodes_from(nodes_to_remove)\n",
    "\n",
    "print(nx.is_directed_acyclic_graph(G))"
   ]
  },
  {
   "cell_type": "code",
   "execution_count": 35,
   "metadata": {},
   "outputs": [],
   "source": [
    "data = json_graph.node_link_data(G)\n",
    "\n",
    "for node in data['nodes']:\n",
    "    node[\"active\"] = True\n",
    "    node[\"hidden\"] = False\n",
    "\n",
    "for edge in data['links']:\n",
    "    edge[\"hidden\"] = False"
   ]
  },
  {
   "cell_type": "code",
   "execution_count": 36,
   "metadata": {},
   "outputs": [
    {
     "name": "stdout",
     "output_type": "stream",
     "text": [
      "Conversion completed. JSON file saved as data\\output231015-173307.json\n"
     ]
    }
   ],
   "source": [
    "jsonData = json.dumps(data, indent=4)\n",
    "\n",
    "write_to_file(outputfile, jsonData)\n",
    "print(f'Conversion completed. JSON file saved as {outputfile}')"
   ]
  },
  {
   "cell_type": "code",
   "execution_count": null,
   "metadata": {},
   "outputs": [],
   "source": []
  }
 ],
 "metadata": {
  "kernelspec": {
   "display_name": "Python 3",
   "language": "python",
   "name": "python3"
  },
  "language_info": {
   "codemirror_mode": {
    "name": "ipython",
    "version": 3
   },
   "file_extension": ".py",
   "mimetype": "text/x-python",
   "name": "python",
   "nbconvert_exporter": "python",
   "pygments_lexer": "ipython3",
   "version": "3.8.3"
  }
 },
 "nbformat": 4,
 "nbformat_minor": 4
}
